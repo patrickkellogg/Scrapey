{
 "cells": [
  {
   "cell_type": "markdown",
   "metadata": {
    "collapsed": false
   },
   "source": [
    "# Scrape_Mech\n",
    "\n",
    "Learning to use mechanize to scrape a website"
   ]
  },
  {
   "cell_type": "code",
   "execution_count": null,
   "metadata": {
    "collapsed": false
   },
   "outputs": [],
   "source": [
    "#uname=mudcub, password=password\n",
    "#myurl = 'https://www.website.com'\n",
    "#myurl = 'https://www.website.com/site/login.php'\n",
    "# get 'https://website.com/stories'\n"
   ]
  },
  {
   "cell_type": "code",
   "execution_count": null,
   "metadata": {
    "collapsed": false
   },
   "outputs": [],
   "source": [
    "from robobrowser import RoboBrowser\n",
    "from bs4 import BeautifulSoup as bs\n",
    "import os, csv\n",
    "import time\n",
    "import re\n",
    "\n",
    "browser = RoboBrowser()\n",
    "login_url = 'http://www.website.com'\n",
    "browser.open(login_url)\n",
    "formlogin = browser.get_form(action=\"/site/login.php\")\n",
    "formlogin['uname'].value = 'mudcub' \n",
    "formlogin['password'].value = 'password'\n",
    "browser.submit_form(formlogin)\n",
    "\n",
    "mylink = browser.get_link('stories')\n",
    "formstories = browser.follow_link(mylink)\n",
    "\n",
    "soup = browser.parsed"
   ]
  },
  {
   "cell_type": "code",
   "execution_count": null,
   "metadata": {
    "collapsed": false
   },
   "outputs": [],
   "source": [
    "print(soup)\n"
   ]
  },
  {
   "cell_type": "code",
   "execution_count": null,
   "metadata": {
    "collapsed": false
   },
   "outputs": [],
   "source": [
    "souptable = soup.find(\"table\", width=\"100%\", border=\"0\", cellpadding=\"0\", cellspacing=\"5\", class_=\"infoBoxContents\")\n",
    "souplinks = souptable.find_all(href=True)\n",
    "mylinks = []\n",
    "myx = []\n",
    "myy = []\n",
    "for link in souplinks:\n",
    "        tester = str(link)\n",
    "        if re.search('<b>', tester):\n",
    "            mylinks.append(link)\n",
    "for finalit in mylinks:\n",
    "        partme = finalit.get('href')\n",
    "        myx.append(\"http://www.website.com/stories/\" + partme)\n",
    "        myy.append(finalit.get_text())"
   ]
  },
  {
   "cell_type": "code",
   "execution_count": null,
   "metadata": {
    "collapsed": false
   },
   "outputs": [],
   "source": [
    "os.chdir(\"/Users/Mudcub/Dropbox/English/\")\n",
    "         \n",
    "#for x in range(0, 2):\n",
    "for x in range(0, len(myx)):\n",
    "    mynext = str(myx[x])\n",
    "    #print(mynext)\n",
    "    nextstory = browser.open(mynext)\n",
    "    soup = browser.parsed\n",
    "    mytest = soup.find('td', class_='heading')\n",
    "    if mytest is None:\n",
    "        print(\"Not found\")\n",
    "    else:\n",
    "        mytitle = myy[x]\n",
    "        myfile = mytitle + \".txt\"\n",
    "        myfile = myfile.replace(\"\\\\\", \" \")\n",
    "        myfile = myfile.replace(\"/\", \" \")\n",
    "        print(myfile)\n",
    "        myname = soup.find('td', class_='mainsmall').get_text()\n",
    "        mytext = soup.find('td', class_='main').get_text()\n",
    "        #print(mytext)\n",
    "        outfile = open(myfile, 'w')\n",
    "        outfile.write(myname)\n",
    "        outfile.write(\"\\n\\r\")\n",
    "        outfile.write(mytitle)\n",
    "        outfile.write(\"\\n\\r\")\n",
    "        outfile.write(mytext)\n",
    "        outfile.close()       \n",
    "        time.sleep(1)"
   ]
  },
  {
   "cell_type": "code",
   "execution_count": null,
   "metadata": {
    "collapsed": false
   },
   "outputs": [],
   "source": []
  },
  {
   "cell_type": "code",
   "execution_count": null,
   "metadata": {
    "collapsed": false
   },
   "outputs": [],
   "source": []
  },
  {
   "cell_type": "code",
   "execution_count": null,
   "metadata": {
    "collapsed": false
   },
   "outputs": [],
   "source": []
  },
  {
   "cell_type": "code",
   "execution_count": null,
   "metadata": {
    "collapsed": false,
    "scrolled": true,
    "slideshow": {
     "slide_type": "skip"
    }
   },
   "outputs": [],
   "source": []
  },
  {
   "cell_type": "code",
   "execution_count": null,
   "metadata": {
    "collapsed": false
   },
   "outputs": [],
   "source": []
  },
  {
   "cell_type": "code",
   "execution_count": null,
   "metadata": {
    "collapsed": false
   },
   "outputs": [],
   "source": []
  },
  {
   "cell_type": "code",
   "execution_count": null,
   "metadata": {
    "collapsed": false
   },
   "outputs": [],
   "source": []
  },
  {
   "cell_type": "code",
   "execution_count": null,
   "metadata": {
    "collapsed": true
   },
   "outputs": [],
   "source": []
  },
  {
   "cell_type": "code",
   "execution_count": null,
   "metadata": {
    "collapsed": true
   },
   "outputs": [],
   "source": []
  }
 ],
 "metadata": {
  "anaconda-cloud": {},
  "kernelspec": {
   "display_name": "Python [Root]",
   "language": "python",
   "name": "Python [Root]"
  },
  "language_info": {
   "codemirror_mode": {
    "name": "ipython",
    "version": 3
   },
   "file_extension": ".py",
   "mimetype": "text/x-python",
   "name": "python",
   "nbconvert_exporter": "python",
   "pygments_lexer": "ipython3",
   "version": "3.5.2"
  }
 },
 "nbformat": 4,
 "nbformat_minor": 0
}
